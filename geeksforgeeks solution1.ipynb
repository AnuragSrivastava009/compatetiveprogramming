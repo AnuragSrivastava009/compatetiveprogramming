{
 "cells": [
  {
   "cell_type": "markdown",
   "metadata": {},
   "source": [
    "##problem statement\n",
    "\n",
    "#Find sum of divisors \n",
    "Easy Accuracy: 62.97% Submissions: 54 Points: 2\n",
    "Given a natural number N, the task is to find the sum of the divisors of all the divisors of N.\n",
    "\n",
    "Example 1:\n",
    "\n",
    "Input:\n",
    "N = 54\n",
    "Output:\n",
    "232\n",
    "Explanation:\n",
    "Divisors of 54 = 1, 2, 3, 6, 9, 18, 27, 54.\n",
    "Sum of divisors of 1, 2, 3, 6, 9, 18, 27, 54 \n",
    "are 1, 3, 4, 12, 13, 39, 40, 120 respectively.\n",
    "Sum of divisors of all the divisors of 54\n",
    " = 1 + 3 + 4 + 12 + 13 + 39 + 40 + 120 = 232.\n",
    "Example 2:\n",
    "\n",
    "Input:\n",
    "N = 10\n",
    "Output:\n",
    "28\n",
    "Explanation:\n",
    "Divisors of 10 are 1, 2, 5, 10\n",
    "Sums of divisors of all the divisors are \n",
    "1, 3, 6, 18.\n",
    "Overall sum = 1 + 3 + 6 + 18 = 28\n",
    "Your Task:  \n",
    "You don't need to read input or print anything. Your task is to complete the function sumOfDivisors() which takes an integer N as an input parameter and return the sum of the divisors of all the divisors of N.\n",
    "\n",
    "Expected Time Complexity: O(NloglogN)\n",
    "Expected Auxiliary Space: O(N)\n",
    "\n",
    "Constraints:\n",
    "1 <= N <= 104\n",
    "\n",
    "Topic Tags"
   ]
  },
  {
   "cell_type": "code",
   "execution_count": 19,
   "metadata": {},
   "outputs": [
    {
     "name": "stdout",
     "output_type": "stream",
     "text": [
      "1\n",
      "2\n",
      "3\n",
      "6\n",
      "9\n",
      "18\n",
      "27\n",
      "54\n"
     ]
    }
   ],
   "source": [
    "##find the divisors\n",
    "def dv(n):\n",
    "    \n",
    "    i=1\n",
    "    while i<=n:\n",
    "        if (n%i==0):\n",
    "            print(i)     \n",
    "        i=i+1\n",
    "(dv(54))\n"
   ]
  },
  {
   "cell_type": "code",
   "execution_count": null,
   "metadata": {},
   "outputs": [],
   "source": []
  },
  {
   "cell_type": "code",
   "execution_count": 39,
   "metadata": {},
   "outputs": [
    {
     "name": "stdout",
     "output_type": "stream",
     "text": [
      "232\n"
     ]
    }
   ],
   "source": [
    "class Solution:\n",
    "    \n",
    "    def sumOfDivisors(self, N):\n",
    "    \t#code here\n",
    "    \tsum = 0\n",
    "    \tfor i in range(1, N+1):\n",
    "    \t    if N % i ==0:\n",
    "    \t        for j in range(1,i+1):\n",
    "    \t            if i % j == 0:\n",
    "    \t                sum = sum+j\n",
    "    \tprint(sum) \n",
    "    sumOfDivisors(0,54)"
   ]
  },
  {
   "cell_type": "code",
   "execution_count": 44,
   "metadata": {},
   "outputs": [
    {
     "name": "stdout",
     "output_type": "stream",
     "text": [
      "enter the number54\n",
      "232\n"
     ]
    }
   ],
   "source": [
    " def sumOfDivisors( N):\n",
    "    \t#code here\n",
    "    \tsum = 0\n",
    "    \tfor i in range(1, N+1):\n",
    "    \t    if N % i ==0:\n",
    "    \t        for j in range(1,i+1):\n",
    "    \t            if i % j == 0:\n",
    "    \t                sum = sum+j\n",
    "    \tprint(sum) \n",
    "sumOfDivisors(int(input(\"enter the number\")))"
   ]
  },
  {
   "cell_type": "code",
   "execution_count": null,
   "metadata": {},
   "outputs": [],
   "source": []
  }
 ],
 "metadata": {
  "kernelspec": {
   "display_name": "Python 3",
   "language": "python",
   "name": "python3"
  },
  "language_info": {
   "codemirror_mode": {
    "name": "ipython",
    "version": 3
   },
   "file_extension": ".py",
   "mimetype": "text/x-python",
   "name": "python",
   "nbconvert_exporter": "python",
   "pygments_lexer": "ipython3",
   "version": "3.7.3"
  }
 },
 "nbformat": 4,
 "nbformat_minor": 4
}
